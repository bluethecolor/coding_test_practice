{
 "cells": [
  {
   "cell_type": "code",
   "execution_count": 9,
   "metadata": {},
   "outputs": [],
   "source": [
    "# 9. Palindrome Number\n",
    "\n",
    "# reverse()가 되서 쉽게 해결됐지만 연결 리스트로 주어지면 reverse() 사용 불가능...\n",
    "\n",
    "class Solution:\n",
    "    def isPalindrome(self, x: int) -> bool:\n",
    "        if x <0 :\n",
    "            return False\n",
    "        x_list = [int(num) for num in str(x)]\n",
    "        x_list.reverse()\n",
    "        x_reverse = int(''.join(map(str, x_list)))\n",
    "        return True if x_reverse == x else False\n",
    "    \n",
    "solution = Solution()\n",
    "\n",
    "answer_1 = solution.isPalindrome(121)\n",
    "answer_1"
   ]
  },
  {
   "cell_type": "code",
   "execution_count": null,
   "metadata": {},
   "outputs": [],
   "source": []
  },
  {
   "cell_type": "code",
   "execution_count": null,
   "metadata": {},
   "outputs": [],
   "source": [
    "# 5. Longest Palindromic Substring\n",
    "\n",
    "# 모든 문자열의 가장 긴 공통 접두사를 찾기 위해 문자열 리스트를 순차적으로 비교하는 방식 이용\n",
    "\n",
    "def longest_common_prefix(strs): # 비어있는 문자열 리스트(`strs`)를 입력받았을 때 빈 문자열(`\"\"`)을 반환 (입력이 없을 경우를 처리 위함)\n",
    "    if not strs:\n",
    "        return ''\n",
    "    \n",
    "    # 두 개의 문자열(`str1`과 `str2`)을 입력받아 두 문자열의 공통 접두사를 찾는 함수\n",
    "    def common_prefix(str1, str2):\n",
    "        min_length = min(len(str1), len(str2)) # 두 문자열 중 더 짧은 문자열의 길이를 저장 (두 문자열을 비교할 때 배열 범위를 벗어나는 것을 방지)\n",
    "        for i in range(min_length): # 각 문자열의 각 문자를 차례대로 비교\n",
    "            if str1[i] != str2[i]: # 만약 같은 위치의 문자가 다르면, \n",
    "                return str1[:i]    # 그 위치 이전까지의 문자열을 공통 접두사로 반환\n",
    "        return str1[:min_length] # 루프가 완료되면 (즉, 모든 문자가 일치하면),\n",
    "                                 # 첫 번째 문자열의 `min_length`까지의 부분을 반환\n",
    "    \n",
    "    # 모든 문자열에 대해 공통 접두사 찾기\n",
    "    prefix = strs[0] # `prefix`는 첫 번째 문자열로 초기화됨 (현재까지 발견된 공통 접두사를 유지)\n",
    "    for i in range(1, len(strs)): # 리스트의 나머지 문자열을 순회\n",
    "        prefix = common_prefix(prefix, strs[i]) # `common_prefix` 함수를 호출하여 현재 `prefix`와 다음 문자열 사이의 공통 접두사를 찾음\n",
    "        if not prefix: # prefix가 빈 문자열인인지 확인\n",
    "            break # 빈 문자열이면, 루프는 `break`를 통해 중단 (더 이상 공통 접두사가 없음)\n",
    "\n",
    "    return prefix # 최종적으로 찾은 공통 접두사(`prefix`)를 반환"
   ]
  },
  {
   "cell_type": "code",
   "execution_count": null,
   "metadata": {},
   "outputs": [],
   "source": []
  },
  {
   "cell_type": "code",
   "execution_count": null,
   "metadata": {},
   "outputs": [],
   "source": [
    "# 3. Longest Substring Without Repeating Characters\n",
    "\n",
    "# 힌트: 투 포인트 슬라이딩 윈도우 (문자열 또는 배열 내에서 특정 조건을 만족하는 연속적인 데이터 요소의 집합을 효율적으로 찾는)\n",
    "\n",
    "# 반복되는 문자 없이 가장 긴 부분 문자열을 찾는 것\n",
    "\n",
    "# 두 개의 포인터(시작과 끝)를 문자열의 시작 부분에 놓음\n",
    "# 끝 포인터를 하나씩 오른쪽으로 이동시키면서, 각 문자가 이전에 등장했는지 확인\n",
    "# 만약 새로운 문자가 이전에 등장하지 않았다면, 윈도우(부분 문자열)의 크기를 증가\n",
    "# 반복되는 문자를 만나면, 시작 포인터를 반복되는 문자의 다음 위치로 이동\n",
    "# 이 과정을 문자열의 끝까지 반복하면서, 지금까지 발견한 가장 긴 유니크한 부분 문자열의 길이를 기록\n",
    "\n",
    "# 각 문자를 한 번씩만 확인하므로 시간 복잡도는 O(n) (최악의 경우 각 문자를 두 번 확인, 한 번은 추가하고 한 번은 제거)\n",
    "\n",
    "class Solution(object):\n",
    "    def lengthOfLongestSubstring(s):\n",
    "        charSet = set() # charSet 변수로 집합을 초기화하여 중복 문자를 추적\n",
    "        l = 0 # l 변수를 0으로 설정하여 슬라이딩 윈도우의 왼쪽 포인터를 초기화\n",
    "        res = 0 # res 변수를 0으로 설정하여, 지금까지 발견한 가장 긴 부분 문자열의 길이를 추적\n",
    "\n",
    "        for r in range(len(s)): # 문자열의 오른쪽 끝까지 반복하는 루프를 설정합니다. \n",
    "            # 여기서 r은 오른쪽 포인터 역할\n",
    "            while s[r] in charSet: # 현재 문자가 이미 charSet에 존재한다면, 왼쪽 포인터를 이동시킬 준비\n",
    "                charSet.remove(s[l]) # charSet에서 왼쪽 포인터에 해당하는 문자를 제거\n",
    "                l += 1 # 왼쪽 포인터를 오른쪽으로 한 칸 이동\n",
    "            charSet.add(s[r]) # 현재 문자를 charSet에 추가\n",
    "            res = max(res, r - l + 1) #현재까지 발견한 가장 긴 부분 문자열의 길이를 갱신합니다. \n",
    "            # 여기서 r - l + 1은 현재 슬라이딩 윈도우의 길이\n",
    "        return res\n"
   ]
  },
  {
   "cell_type": "code",
   "execution_count": null,
   "metadata": {},
   "outputs": [],
   "source": []
  },
  {
   "cell_type": "code",
   "execution_count": 15,
   "metadata": {},
   "outputs": [],
   "source": [
    "# 20. Valid Parentheses\n",
    "\n",
    "# 힌트: 스택(Stack) (LIFO, Last In First Out)\n",
    "\n",
    "# 열린 괄호('(', '{', '[')를 만나면 스택에 넣습니다.\n",
    "# 닫힌 괄호(')', '}', ']')를 만나면, 스택에서 가장 최근에 추가된 괄호를 확인합니다.\n",
    "    # 만약 스택이 비어있거나, 스택의 최상단 괄호가 현재 닫힌 괄호와 짝이 맞지 않으면, 문자열은 유효하지 않습니다.\n",
    "    # 만약 짝이 맞다면, 스택에서 해당 괄호를 제거합니다.\n",
    "# 모든 문자를 확인한 후, 스택이 비어있다면 문자열은 유효합니다.\n",
    "\n",
    "class Solution(object):\n",
    "    def isValid(self, s):\n",
    "        \"\"\"\n",
    "        :type s: str\n",
    "        :rtype: bool\n",
    "        \"\"\"\n",
    "        # 스택 초기화\n",
    "        stack = []\n",
    "\n",
    "        # 괄호 짝을 매칭하기 위한 딕셔너리\n",
    "        matching_parentheses = {\")\": \"(\", \"}\": \"{\", \"]\": \"[\"}\n",
    "        \n",
    "        s= [digit for digit in s] # s를 리스트로\n",
    "        for char in s:\n",
    "            # 닫는 괄호인 경우\n",
    "            if char in matching_parentheses:\n",
    "                # 스택이 비어있거나 마지막 원소가 짝이 아닌 경우\n",
    "                if not stack or stack[-1] != matching_parentheses[char]:\n",
    "                    return False\n",
    "                stack.pop()  # 짝이 맞는 경우, 스택에서 제거\n",
    "            else:\n",
    "                stack.append(char)  # 여는 괄호인 경우, 스택에 추가\n",
    "\n",
    "        return not stack  # 스택이 비어있으면 True, 아니면 False"
   ]
  },
  {
   "cell_type": "code",
   "execution_count": 16,
   "metadata": {},
   "outputs": [
    {
     "data": {
      "text/plain": [
       "False"
      ]
     },
     "execution_count": 16,
     "metadata": {},
     "output_type": "execute_result"
    }
   ],
   "source": [
    "s = \"(]\"\n",
    "\n",
    "solution = Solution()\n",
    "answer = solution.isValid(s)\n",
    "answer"
   ]
  },
  {
   "cell_type": "code",
   "execution_count": null,
   "metadata": {},
   "outputs": [],
   "source": []
  },
  {
   "cell_type": "code",
   "execution_count": 1,
   "metadata": {},
   "outputs": [],
   "source": [
    "# 21. Merge Two Sorted Lists\n",
    "\n",
    "# 힌트: 병합정렬\n",
    "\n",
    "# 두 정렬된 리스트를 정렬된 상태로 병합하는 과정이므로 병합정렬 이용\n",
    "# 각 리스트의 첫 노드부터 시작하여, 더 작은 값을 가진 노드를 선택하고, 다음 노드로 넘어가는 방식으로 진행\n",
    "# dummy와 tail을 이용\n",
    "\n",
    "class ListNode: # ListNode는 연결 리스트의 노드를 정의\n",
    "    def __init__(self, val=0, next=None): # 각 노드는 값을 (val) 가지고 있으며, \n",
    "                                          # 다음 노드를 가리키는 포인터 (next)가 있음\n",
    "        self.val = val # 기본적으로, val은 0\n",
    "        self.next = next # next는 None\n",
    "\n",
    "class Solution(object):\n",
    "    def mergeTwoLists(self, list1, list2):\n",
    "        \"\"\"\n",
    "        :type list1: Optional[ListNode]\n",
    "        :type list2: Optional[ListNode]\n",
    "        :rtype: Optional[ListNode]\n",
    "        \"\"\"\n",
    "\n",
    "        dummy = ListNode() # 병합된 리스트의 시작점\n",
    "                           # 이 노드는 실제 데이터를 담지 않고, 결과 리스트의 헤드를 참조하는 용도로 사용\n",
    "        tail = dummy # 병합된 리스트의 마지막 노드\n",
    "                     # 처음에는 dummy를 가리킴\n",
    "\n",
    "        while list1 and list2 : # 두 리스트 모두 끝날 때까지 반복\n",
    "\n",
    "            if list1.val < list2.val: # 현재 list1과 list2의 노드 값을 비교\n",
    "\n",
    "                tail.next = list1 # tail 노드가 현재 가리키고 있는 마지막 노드의 next 포인터를 list1의 현재 노드로 설정\n",
    "                                  \n",
    "                list1 = list1.next # list1의 포인터를 다음 노드로 이동시킴\n",
    "                                   # list1의 다음 노드를 현재 노드로 만들어, 다음 비교에 사용할 준비\n",
    "\n",
    "            else: # list1.val > list2.val 일 경우 list2에 동일하게 적용\n",
    "                tail.next = list2\n",
    "                list2 = list2.next\n",
    "\n",
    "            tail = tail.next # tail을 업데이트하여 새로 연결된 마지막 노드를 가리키게 함\n",
    "\n",
    "        # list들의 남아있는 요소들을 마저 병합\n",
    "        if list1:\n",
    "            tail.next = list1\n",
    "        elif list2:\n",
    "            tail.next = list2\n",
    "\n",
    "        return dummy.next # 더미 노드의 다음 노드, 즉 실제 병합된 리스트의 첫 번째 노드를 반환"
   ]
  },
  {
   "cell_type": "code",
   "execution_count": null,
   "metadata": {},
   "outputs": [],
   "source": [
    "list1 = [1,2,4]\n",
    "list2 = [1,3,4]\n",
    "\n",
    "solution = Solution()\n",
    "answer = solution.mergeTwoLists(list1, list2)\n",
    "answer"
   ]
  },
  {
   "cell_type": "code",
   "execution_count": null,
   "metadata": {},
   "outputs": [],
   "source": []
  },
  {
   "cell_type": "code",
   "execution_count": 14,
   "metadata": {},
   "outputs": [],
   "source": [
    "# 26. Remove Duplicates from Sorted Array\n",
    "\n",
    "# 힌트: 투 포인터\n",
    "    # 포인터 초기화: current, nextUnique (nums 리스트의 인덱스 값)\n",
    "    # 배열 순회: current 포인터를 사용해 배열 순회, nums[current] != ums[nextUnique]이면, 새로운 고유값임을 의미 (같으면 건너뜀)\n",
    "    # 유크 요소 배치: nextUnique를 한 칸 앞으로 이동시키고, 새로 찾은 고유한 값을 nums[nextUnique]에 배치\n",
    "    # nextUnique + 1 을 k값으로 반환 (인덱스니까 1 더해야)\n",
    "\n",
    "class Solution(object):\n",
    "    def removeDuplicates(self, nums):\n",
    "        \"\"\"\n",
    "        :type nums: List[int]\n",
    "        :rtype: int\n",
    "        \"\"\"\n",
    "        if not nums: # 없으면 k = 0 으로 반환\n",
    "            return 0\n",
    "        \n",
    "        nextUnique = 0 # 다음 유니크한 값을 배치할 위치의 초기값으 0으로 설정\n",
    "\n",
    "        for current in range(len(nums)): # current(현재위치)를 순회\n",
    "            if nums[current] != nums[nextUnique]: # 둘이 같이 않으면 고유값\n",
    "                nextUnique += 1\n",
    "                nums[nextUnique] = nums[current]\n",
    "            else : # nums[current] == nums[nextUnique] 면 건너뜀\n",
    "                continue\n",
    "        \n",
    "        return nextUnique + 1 # nextUniques는 인덱스니까 1 더함"
   ]
  },
  {
   "cell_type": "code",
   "execution_count": 15,
   "metadata": {},
   "outputs": [
    {
     "data": {
      "text/plain": [
       "2"
      ]
     },
     "execution_count": 15,
     "metadata": {},
     "output_type": "execute_result"
    }
   ],
   "source": [
    "nums = [1,1,2]\n",
    "\n",
    "solution = Solution()\n",
    "answer = solution.removeDuplicates(nums)\n",
    "answer"
   ]
  },
  {
   "cell_type": "code",
   "execution_count": 20,
   "metadata": {},
   "outputs": [],
   "source": [
    "# 27. Remove \n",
    "\n",
    "# 리스트를 앞에서부터 순회하면서 val에 해당되는 값을 제일 뒤의 값과 바꾼다.\n",
    "# 제일 뒤 값이 val일 경우 그 앞에 값과 바꾼다. (그 값고 val일 경우 그 앞에 값, 반복)\n",
    "\n",
    "\n",
    "class Solution(object):\n",
    "    def removeElement(self, nums, val):\n",
    "        \"\"\"\n",
    "        :type nums: List[int]\n",
    "        :type val: int\n",
    "        :rtype: int\n",
    "        \"\"\"\n",
    "        for i in range(len(nums)): # nums의 전체를 순회\n",
    "            if nums[i] == val: # nums 내에서 val값을 찾았을 때 \n",
    "                for j in range(len(nums) -1, i ,-1): # nums의 마지막 값부터 i인덱스까지 거꾸로 순회\n",
    "                    if nums[j] != val: # val이 아닌 값을 찾았을 때 \n",
    "                        nums[i], nums[j] = nums[j], nums[i] # 두 값을 서로 바꿔준다.\n",
    "                        break # 다음 i의 값으로 넘어간다.\n",
    "\n",
    "        nums = [k for k in nums if k != val] # nums에서 val값을 제거한다.\n",
    "        return len(nums)\n"
   ]
  },
  {
   "cell_type": "code",
   "execution_count": 21,
   "metadata": {},
   "outputs": [
    {
     "data": {
      "text/plain": [
       "5"
      ]
     },
     "execution_count": 21,
     "metadata": {},
     "output_type": "execute_result"
    }
   ],
   "source": [
    "nums = [0,1,2,2,3,0,4,2]\n",
    "val = 2\n",
    "\n",
    "# nums = [3,2,2,3]\n",
    "# val = 3\n",
    "\n",
    "solution = Solution()\n",
    "answer = solution.removeElement(nums, val)\n",
    "answer"
   ]
  },
  {
   "cell_type": "code",
   "execution_count": null,
   "metadata": {},
   "outputs": [],
   "source": []
  }
 ],
 "metadata": {
  "kernelspec": {
   "display_name": "Python 3",
   "language": "python",
   "name": "python3"
  },
  "language_info": {
   "codemirror_mode": {
    "name": "ipython",
    "version": 3
   },
   "file_extension": ".py",
   "mimetype": "text/x-python",
   "name": "python",
   "nbconvert_exporter": "python",
   "pygments_lexer": "ipython3",
   "version": "3.9.16"
  },
  "orig_nbformat": 4
 },
 "nbformat": 4,
 "nbformat_minor": 2
}
