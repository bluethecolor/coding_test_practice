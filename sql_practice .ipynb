{
 "cells": [
  {
   "cell_type": "code",
   "execution_count": 1,
   "metadata": {},
   "outputs": [],
   "source": [
    "# Leetcode의 Schema를 mysql의 형태로 바꿔주는 코드\n",
    "\n",
    "import re\n",
    "\n",
    "def convert_to_mysql_format(sql_script):\n",
    "    # 정수 값에 따옴표 제거\n",
    "    sql_script = re.sub(r\"values \\('(\\d+)'\", r\"values (\\1\", sql_script, flags=re.IGNORECASE)\n",
    "\n",
    "    # 데이터 타입 변환 (예시: VARCHAR2 -> VARCHAR)\n",
    "    sql_script = re.sub(r\"VARCHAR2\\((\\d+)\\)\", r\"VARCHAR(\\1)\", sql_script, flags=re.IGNORECASE)\n",
    "\n",
    "    # 중복된 데이터 삽입 방지 (이 부분은 복잡할 수 있으며, 상황에 따라 다를 수 있음)\n",
    "    \n",
    "    # 주석 처리 변환 (예시: -- -> #)\n",
    "    sql_script = sql_script.replace('--', '#')\n",
    "\n",
    "    # 바이너리 데이터 처리 (예시: RAW -> BINARY)\n",
    "    sql_script = re.sub(r\"RAW\\((\\d+)\\)\", r\"BINARY(\\1)\", sql_script, flags=re.IGNORECASE)\n",
    "\n",
    "    # 기타 구문 변환 (특정 상황에 따라 필요한 경우 추가)\n",
    "\n",
    "    return sql_script"
   ]
  },
  {
   "cell_type": "markdown",
   "metadata": {},
   "source": [
    "##### 1581. Customer Who Visited but Did Not Make Any Transactions\n",
    "\n",
    "\n",
    "```sql\n",
    "SELECT v.customer_id, COUNT(v.visit_id) AS count_no_trans\n",
    "FROM Visits v\n",
    "LEFT JOIN Transactions t ON v.visit_id = t.visit_id\n",
    "WHERE t.transaction_id IS NULL\n",
    "GROUP BY v.customer_id;\n",
    "``````"
   ]
  },
  {
   "cell_type": "markdown",
   "metadata": {},
   "source": []
  },
  {
   "cell_type": "markdown",
   "metadata": {},
   "source": [
    "##### 197. Rising Temperature\n",
    "\n",
    "- 같은 테이블 내에서 전 날보다 기온이 낮은 열들을 추출하는 문제\n",
    "\n",
    "- Weather a의 복제본 Weather b를 만든다.\n",
    "- 기존 테이블에 DATE_ADD(b.recordDate, INTERVAL 1 DAY)로 하루씩 밀린 날짜 column을 더해준다.\n",
    "- 위에서 만든 column을 기준으로 ON하여 두 테이블을 JOIN해준다.\n",
    "- WHERE로 a.temperature > b.temperature 설정\n",
    "\n",
    "```sql\n",
    "SELECT a.id\n",
    "FROM Weather a\n",
    "     JOIN Weather b ON a.recordDate = DATE_ADD(b.recordDate, INTERVAL 1 DAY)\n",
    "WHERE a.temperature > b.temperature;\n",
    "``````"
   ]
  },
  {
   "cell_type": "markdown",
   "metadata": {},
   "source": []
  },
  {
   "cell_type": "markdown",
   "metadata": {},
   "source": [
    "##### 1661. Average Time of Process per Machine\n",
    "\n",
    "\n",
    "```sql\n",
    "SELECT \n",
    "    start.machine_id, \n",
    "    ROUND(AVG(end.timestamp - start.timestamp), 3) AS processing_time\n",
    "FROM \n",
    "    Activity AS start\n",
    "JOIN \n",
    "    Activity AS end ON start.machine_id = end.machine_id \n",
    "                    AND start.process_id = end.process_id \n",
    "                    AND start.activity_type = 'start' \n",
    "                    AND end.activity_type = 'end'\n",
    "GROUP BY \n",
    "    start.machine_id;\n",
    "``````"
   ]
  },
  {
   "cell_type": "markdown",
   "metadata": {},
   "source": [
    "아래는 위처럼 간단하게 할 수 있는 테이블을 하나하나 생성하며 헤멘 버전... 어지간한건 join으로 한번에 해결 가능"
   ]
  },
  {
   "cell_type": "markdown",
   "metadata": {},
   "source": [
    "```sql\n",
    "CREATE TABLE s AS\n",
    "SELECT machine_id, process_id, timestamp\n",
    "FROM Activity\n",
    "WHERE activity_type = 'start';\n",
    "\n",
    "CREATE TABLE e AS\n",
    "SELECT machine_id, process_id, timestamp\n",
    "FROM Activity\n",
    "WHERE activity_type = 'end';\n",
    "\n",
    "CREATE TABLE ProcessDuration AS\n",
    "SELECT s.machine_id, \n",
    "       s.process_id, \n",
    "       e.timestamp - s.timestamp AS duration\n",
    "FROM s\n",
    "JOIN e ON s.machine_id = e.machine_id AND s.process_id = e.process_id;\n",
    "\n",
    "SELECT machine_id, ROUND(AVG(duration),3) processing_time\n",
    "FROM ProcessDuration\n",
    "GROUP BY machine_id;\n",
    "```"
   ]
  },
  {
   "cell_type": "markdown",
   "metadata": {},
   "source": [
    "위처럼 여러개의 쿼리로 이루어져 있으면 Leetcode에서 오류가난다.\\\n",
    "\\\n",
    "with을 이용하여 하나의 쿼리로 합쳐주면 해결된다."
   ]
  },
  {
   "cell_type": "markdown",
   "metadata": {},
   "source": [
    "```sql\n",
    "WITH s AS (\n",
    "    SELECT machine_id, process_id, timestamp\n",
    "    FROM Activity\n",
    "    WHERE activity_type = 'start'\n",
    "),\n",
    "e AS (\n",
    "    SELECT machine_id, process_id, timestamp\n",
    "    FROM Activity\n",
    "    WHERE activity_type = 'end'\n",
    "),\n",
    "ProcessDuration AS (\n",
    "    SELECT s.machine_id, \n",
    "           s.process_id, \n",
    "           e.timestamp - s.timestamp AS duration\n",
    "    FROM s\n",
    "    JOIN e ON s.machine_id = e.machine_id AND s.process_id = e.process_id\n",
    ")\n",
    "SELECT machine_id, ROUND(AVG(duration), 3) AS processing_time\n",
    "FROM ProcessDuration\n",
    "GROUP BY machine_id;\n",
    "``````"
   ]
  },
  {
   "cell_type": "markdown",
   "metadata": {},
   "source": []
  },
  {
   "cell_type": "markdown",
   "metadata": {},
   "source": [
    "##### 577. Employee Bonus\n",
    "\n",
    "```sql\n",
    "SELECT e.name, b.bonus\n",
    "FROM Employee e\n",
    "LEFT JOIN Bonus b ON e.empId = b.empId\n",
    "GROUP BY e.name, b.bonus\n",
    "HAVING b.bonus < 1000 or b.bonus IS NULL;\n",
    "```"
   ]
  },
  {
   "cell_type": "markdown",
   "metadata": {},
   "source": [
    "위 코드가 testcase는 통과하였으나 추가적인 검증에는 fail이 떴다\\\n",
    "\\\n",
    "문제점\n",
    "- empId로 이미 고유하게 식별되므로, GROUP BY를 사용할 필요가 없다.\n",
    "- 보너스 정보가 전혀 없는 직원들을 제대로 처리하지 못했을 가능성이 있음.\n",
    "- --> WHERE 사용\n"
   ]
  },
  {
   "cell_type": "markdown",
   "metadata": {},
   "source": [
    "```sql\n",
    "SELECT e.name, b.bonus\n",
    "FROM Employee e\n",
    "LEFT JOIN Bonus b ON e.empId = b.empId\n",
    "WHERE b.bonus < 1000 OR b.bonus IS NULL;\n",
    "```"
   ]
  },
  {
   "cell_type": "markdown",
   "metadata": {},
   "source": []
  },
  {
   "cell_type": "markdown",
   "metadata": {},
   "source": [
    "##### 1280. Students and Examinations\n",
    "\n",
    "- CROSS JOIN을 통해\n",
    "```sql\n",
    "CROSS JOIN Subjects sub\n",
    "```\n",
    "로 Students 테이블과 Subjects 테이블을 합쳐주며 row 값을 최대치로 늘려놓고 채워넣는 방향으로 한다.\n",
    "\n",
    "- LEFT JOIN을 해야 Studant_id가 누락 없이 전부 나온다.\n",
    "\n",
    "```sql\n",
    "SELECT st.student_id, st.student_name, sub.subject_name, COUNT(ex.student_id) AS attended_exams\n",
    "FROM Students st\n",
    "CROSS JOIN Subjects sub\n",
    "LEFT JOIN Examinations ex ON st.student_id = ex.student_id AND sub.subject_name = ex.subject_name\n",
    "GROUP BY st.student_id, st.student_name, sub.subject_name\n",
    "ORDER BY st.student_id, sub.subject_name;\n",
    "```\n",
    "* 전체를 JOIN한 테이블에서 Examinations의 student_id를 기준으로 COUNT해준다.\n"
   ]
  },
  {
   "cell_type": "markdown",
   "metadata": {},
   "source": [
    "정보: MYSQL에서 GROUP BY는 ONLY_FULL_GROUP_BY모드를 지원하며, SELECT의 집계함수를 제외한 모든 항목들이 GROUP BY에 포함되어야 한다."
   ]
  },
  {
   "cell_type": "markdown",
   "metadata": {},
   "source": []
  },
  {
   "cell_type": "markdown",
   "metadata": {},
   "source": [
    "##### 570. Managers with at Least 5 Direct Reports\n",
    "\n",
    "1. managerId를 기준으로 직원을 그룹화, COUNT로 5 이상만 남김 (서브쿼리로 생성)\n",
    "2. 위에서 만든 서브쿼리 안에 id가 들어가는지로 파악\n",
    "3. 위 조건을 만족하는 name만 추출\n",
    "\n",
    "```sql\n",
    "SELECT name\n",
    "FROM Employee\n",
    "WHERE id IN (\n",
    "\tSELECT e.managerId\n",
    "\tFROM Employee e\n",
    "\tWHERE e.managerId IS NOT NULL\n",
    "\tGROUP BY e.managerId\n",
    "\tHAVING COUNT(*) >=5\n",
    "\t);\n",
    "``````"
   ]
  },
  {
   "cell_type": "markdown",
   "metadata": {},
   "source": [
    "#### 1934. Confirmation Rate\n",
    "\n",
    "- confirmation_rate을 구하는 것이 난관\n",
    "\n",
    "```sql\n",
    "SELECT\n",
    "    s.user_id,\n",
    "    COALESCE(\n",
    "        ROUND(\n",
    "            SUM(CASE WHEN c.action = 'confirmed' THEN 1 ELSE 0 END) / NULLIF(COUNT(c.user_id), 0)\n",
    "            , 2)\n",
    "        , 0) AS confirmation_rate\n",
    "FROM\n",
    "    Signups s\n",
    "LEFT JOIN\n",
    "    Confirmations c ON s.user_id = c.user_id\n",
    "GROUP BY\n",
    "    s.user_id;\n",
    "```\n",
    "\n",
    "#### confirmation_rate\n",
    "- **SUM(CASE WHEN c.action = 'confirmed' THEN 1 ELSE 0 END)**\n",
    "  \n",
    "  - CASE 문은 sql의 if문\n",
    "  - Confirmations 테이블의 action이 confirmed이면 1, 그 외는 0 반환\n",
    "\n",
    "- **NULLIF(COUNT(c.user_id), 0)**\n",
    "  - NULLIF 는 두 값이 같으면 NULL, 다르면 첫 번째 값을 반환\n",
    "  - c.user_id가 0일 떄 0이 아니라 NULL이 반환되게 함 (분모가 0되는것 방지)\n",
    "\n",
    "- ROUND: 반올림\n",
    "\n",
    "- COALESCE:  제공된 값 중 첫 번째 NULL이 아닌 값을 반환\n",
    "  - 만약 분모가 0이어서 NULLIF 문이 NULL을 반환하면, COALESCE는 0을 반환해줌\n",
    "  - 이렇게 하면, 요청메세지 없으면 0으로 처리\n"
   ]
  },
  {
   "cell_type": "markdown",
   "metadata": {},
   "source": [
    "##### 1251. Average Selling Price\n",
    "\n",
    "- JOIN 조건에 UnitsSold의 purchase_date이 Prices 테블의 시작/끝 기간 내 포함시키는 것이 핵심\n",
    "- 그 이후 product_id로 grop by하면 average_price은 단순 집계함수로 계산 가능\n",
    "\n",
    "\n",
    "```sql\n",
    "SELECT us.product_id, ROUND(SUM(ps.price * us.units) / SUM(us.units), 2) AS average_price\n",
    "FROM UnitsSold us\n",
    "JOIN Prices ps\n",
    "ON us.product_id = ps.product_id\n",
    "AND us.purchase_date BETWEEN ps.start_date AND ps.end_date\n",
    "GROUP BY us.product_id;\n",
    "\n",
    "``````\n",
    "\n",
    "- 그러나 이 경우도 전과 같이 NULL이 나오는 오류로 인해 실패\n",
    "- 위와 같이 집계 함수에서 분모가 0이 되는 경우를 고려하지 못한 것이 원인\n",
    "- COALESCE와 NULLIF을 활용해야 한다.\n",
    "\n",
    "- 분모에 NULLIF(내용, 0)으로 내용 = 0이면 NULL값을 반환시켜주고\n",
    "- 분모가 NULL값이 반환되면 전체 값을 COALESCE(내용, 0)으로 NULL값 대신 0을 반환해주는 것으로 해결\n",
    "\n",
    "```sql\n",
    "SELECT p.product_id, COALESCE(ROUND(SUM(p.price * us.units) / NULLIF(SUM(us.units), 0), 2), 0) AS average_price\n",
    "FROM Prices p\n",
    "LEFT JOIN UnitsSold us\n",
    "ON p.product_id = us.product_id\n",
    "AND us.purchase_date BETWEEN p.start_date AND p.end_date\n",
    "GROUP BY p.product_id;\n",
    "``````\n"
   ]
  },
  {
   "cell_type": "markdown",
   "metadata": {},
   "source": []
  }
 ],
 "metadata": {
  "kernelspec": {
   "display_name": "Python 3",
   "language": "python",
   "name": "python3"
  },
  "language_info": {
   "codemirror_mode": {
    "name": "ipython",
    "version": 3
   },
   "file_extension": ".py",
   "mimetype": "text/x-python",
   "name": "python",
   "nbconvert_exporter": "python",
   "pygments_lexer": "ipython3",
   "version": "3.9.16"
  },
  "orig_nbformat": 4
 },
 "nbformat": 4,
 "nbformat_minor": 2
}
