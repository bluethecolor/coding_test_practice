{
 "cells": [
  {
   "cell_type": "markdown",
   "metadata": {},
   "source": [
    "##### 1581. Customer Who Visited but Did Not Make Any Transactions\n",
    "\n",
    "\n",
    "```sql\n",
    "SELECT v.customer_id, COUNT(v.visit_id) AS count_no_trans\n",
    "FROM Visits v\n",
    "LEFT JOIN Transactions t ON v.visit_id = t.visit_id\n",
    "WHERE t.transaction_id IS NULL\n",
    "GROUP BY v.customer_id;\n",
    "``````"
   ]
  },
  {
   "cell_type": "markdown",
   "metadata": {},
   "source": []
  },
  {
   "cell_type": "markdown",
   "metadata": {},
   "source": [
    "##### 197. Rising Temperature\n",
    "\n",
    "- 같은 테이블 내에서 전 날보다 기온이 낮은 열들을 추출하는 문제\n",
    "\n",
    "- Weather a의 복제본 Weather b를 만든다.\n",
    "- 기존 테이블에 DATE_ADD(b.recordDate, INTERVAL 1 DAY)로 하루씩 밀린 날짜 column을 더해준다.\n",
    "- 위에서 만든 column을 기준으로 ON하여 두 테이블을 JOIN해준다.\n",
    "- WHERE로 a.temperature > b.temperature 설정\n",
    "\n",
    "```sql\n",
    "SELECT a.id\n",
    "FROM Weather a\n",
    "     JOIN Weather b ON a.recordDate = DATE_ADD(b.recordDate, INTERVAL 1 DAY)\n",
    "WHERE a.temperature > b.temperature;\n",
    "``````"
   ]
  },
  {
   "cell_type": "markdown",
   "metadata": {},
   "source": []
  },
  {
   "cell_type": "markdown",
   "metadata": {},
   "source": [
    "##### 1661. Average Time of Process per Machine\n",
    "\n",
    "\n",
    "```sql\n",
    "SELECT \n",
    "    start.machine_id, \n",
    "    ROUND(AVG(end.timestamp - start.timestamp), 3) AS processing_time\n",
    "FROM \n",
    "    Activity AS start\n",
    "JOIN \n",
    "    Activity AS end ON start.machine_id = end.machine_id \n",
    "                    AND start.process_id = end.process_id \n",
    "                    AND start.activity_type = 'start' \n",
    "                    AND end.activity_type = 'end'\n",
    "GROUP BY \n",
    "    start.machine_id;\n",
    "``````"
   ]
  },
  {
   "cell_type": "markdown",
   "metadata": {},
   "source": [
    "아래는 위처럼 간단하게 할 수 있는 테이블을 하나하나 생성하며 헤멘 버전... 어지간한건 join으로 한번에 해결 가능"
   ]
  },
  {
   "cell_type": "markdown",
   "metadata": {},
   "source": [
    "```sql\n",
    "CREATE TABLE s AS\n",
    "SELECT machine_id, process_id, timestamp\n",
    "FROM Activity\n",
    "WHERE activity_type = 'start';\n",
    "\n",
    "CREATE TABLE e AS\n",
    "SELECT machine_id, process_id, timestamp\n",
    "FROM Activity\n",
    "WHERE activity_type = 'end';\n",
    "\n",
    "CREATE TABLE ProcessDuration AS\n",
    "SELECT s.machine_id, \n",
    "       s.process_id, \n",
    "       e.timestamp - s.timestamp AS duration\n",
    "FROM s\n",
    "JOIN e ON s.machine_id = e.machine_id AND s.process_id = e.process_id;\n",
    "\n",
    "SELECT machine_id, ROUND(AVG(duration),3) processing_time\n",
    "FROM ProcessDuration\n",
    "GROUP BY machine_id;\n",
    "```"
   ]
  },
  {
   "cell_type": "markdown",
   "metadata": {},
   "source": [
    "위처럼 여러개의 쿼리로 이루어져 있으면 Leetcode에서 오류가난다.\\\n",
    "\\\n",
    "with을 이용하여 하나의 쿼리로 합쳐주면 해결된다."
   ]
  },
  {
   "cell_type": "markdown",
   "metadata": {},
   "source": [
    "```sql\n",
    "WITH s AS (\n",
    "    SELECT machine_id, process_id, timestamp\n",
    "    FROM Activity\n",
    "    WHERE activity_type = 'start'\n",
    "),\n",
    "e AS (\n",
    "    SELECT machine_id, process_id, timestamp\n",
    "    FROM Activity\n",
    "    WHERE activity_type = 'end'\n",
    "),\n",
    "ProcessDuration AS (\n",
    "    SELECT s.machine_id, \n",
    "           s.process_id, \n",
    "           e.timestamp - s.timestamp AS duration\n",
    "    FROM s\n",
    "    JOIN e ON s.machine_id = e.machine_id AND s.process_id = e.process_id\n",
    ")\n",
    "SELECT machine_id, ROUND(AVG(duration), 3) AS processing_time\n",
    "FROM ProcessDuration\n",
    "GROUP BY machine_id;\n",
    "``````"
   ]
  },
  {
   "cell_type": "markdown",
   "metadata": {},
   "source": []
  }
 ],
 "metadata": {
  "kernelspec": {
   "display_name": "Python 3",
   "language": "python",
   "name": "python3"
  },
  "language_info": {
   "codemirror_mode": {
    "name": "ipython",
    "version": 3
   },
   "file_extension": ".py",
   "mimetype": "text/x-python",
   "name": "python",
   "nbconvert_exporter": "python",
   "pygments_lexer": "ipython3",
   "version": "3.9.16"
  },
  "orig_nbformat": 4
 },
 "nbformat": 4,
 "nbformat_minor": 2
}
